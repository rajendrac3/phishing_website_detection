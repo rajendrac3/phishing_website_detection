{
 "cells": [
  {
   "cell_type": "markdown",
   "metadata": {},
   "source": [
    "# Understanding the dataset"
   ]
  },
  {
   "cell_type": "raw",
   "metadata": {},
   "source": [
    "Domain: The URL itself.\n",
    "Ranking: Page Ranking\n",
    "isIp: Is there an IP address in the weblink\n",
    "valid: This data is fetched from google's whois API that tells us more about the current\n",
    "status of the URL's registration.\n",
    "activeDuration: Also from whois API. Gives the duration of the time since the\n",
    "registration up until now.\n",
    "urlLen: It is simply the length of the URL\n",
    "is@: If the link has a '@' character then it's value = 1\n",
    "isredirect: If the link has double dashes, there is a chance that it is a redirect. 1-> multiple\n",
    "dashes present together.\n",
    "haveDash: If there are any dashes in the domain name.\n",
    "domainLen: The length of just the domain name.\n",
    "noOfSubdomain: The number of subdomains preset in the URL.\n",
    "Labels: 0 -> Legitimate website , 1 -> Phishing Link/ Spam Link"
   ]
  },
  {
   "cell_type": "code",
   "execution_count": 16,
   "metadata": {},
   "outputs": [],
   "source": [
    "import pandas as pd\n",
    "import numpy as np\n",
    "import matplotlib.pyplot as plt"
   ]
  },
  {
   "cell_type": "code",
   "execution_count": 21,
   "metadata": {},
   "outputs": [],
   "source": [
    "data_file = pd.read_csv('dataset/combined_dataset.csv')"
   ]
  },
  {
   "cell_type": "code",
   "execution_count": 22,
   "metadata": {},
   "outputs": [
    {
     "data": {
      "text/html": [
       "<div>\n",
       "<style scoped>\n",
       "    .dataframe tbody tr th:only-of-type {\n",
       "        vertical-align: middle;\n",
       "    }\n",
       "\n",
       "    .dataframe tbody tr th {\n",
       "        vertical-align: top;\n",
       "    }\n",
       "\n",
       "    .dataframe thead th {\n",
       "        text-align: right;\n",
       "    }\n",
       "</style>\n",
       "<table border=\"1\" class=\"dataframe\">\n",
       "  <thead>\n",
       "    <tr style=\"text-align: right;\">\n",
       "      <th></th>\n",
       "      <th>domain</th>\n",
       "      <th>ranking</th>\n",
       "      <th>isIp</th>\n",
       "      <th>valid</th>\n",
       "      <th>activeDuration</th>\n",
       "      <th>urlLen</th>\n",
       "      <th>is@</th>\n",
       "      <th>isredirect</th>\n",
       "      <th>haveDash</th>\n",
       "      <th>domainLen</th>\n",
       "      <th>nosOfSubdomain</th>\n",
       "      <th>label</th>\n",
       "    </tr>\n",
       "  </thead>\n",
       "  <tbody>\n",
       "    <tr>\n",
       "      <th>0</th>\n",
       "      <td>www.voting-yahoo.com</td>\n",
       "      <td>10000000</td>\n",
       "      <td>0</td>\n",
       "      <td>0</td>\n",
       "      <td>0</td>\n",
       "      <td>20</td>\n",
       "      <td>0</td>\n",
       "      <td>0</td>\n",
       "      <td>1</td>\n",
       "      <td>20</td>\n",
       "      <td>2</td>\n",
       "      <td>1</td>\n",
       "    </tr>\n",
       "    <tr>\n",
       "      <th>1</th>\n",
       "      <td>www.zvon.org/xxl/WSDL1.1/Output/index.html</td>\n",
       "      <td>194914</td>\n",
       "      <td>0</td>\n",
       "      <td>1</td>\n",
       "      <td>7305</td>\n",
       "      <td>42</td>\n",
       "      <td>0</td>\n",
       "      <td>0</td>\n",
       "      <td>0</td>\n",
       "      <td>12</td>\n",
       "      <td>2</td>\n",
       "      <td>0</td>\n",
       "    </tr>\n",
       "    <tr>\n",
       "      <th>2</th>\n",
       "      <td>tecportais.com/file-security-update-infonfmati...</td>\n",
       "      <td>10000000</td>\n",
       "      <td>0</td>\n",
       "      <td>0</td>\n",
       "      <td>0</td>\n",
       "      <td>155</td>\n",
       "      <td>0</td>\n",
       "      <td>0</td>\n",
       "      <td>0</td>\n",
       "      <td>14</td>\n",
       "      <td>1</td>\n",
       "      <td>1</td>\n",
       "    </tr>\n",
       "    <tr>\n",
       "      <th>3</th>\n",
       "      <td>bima.astro.umd.edu/nemo/linuxastro/</td>\n",
       "      <td>7001</td>\n",
       "      <td>0</td>\n",
       "      <td>0</td>\n",
       "      <td>0</td>\n",
       "      <td>35</td>\n",
       "      <td>0</td>\n",
       "      <td>0</td>\n",
       "      <td>0</td>\n",
       "      <td>18</td>\n",
       "      <td>3</td>\n",
       "      <td>0</td>\n",
       "    </tr>\n",
       "    <tr>\n",
       "      <th>4</th>\n",
       "      <td>huarui-tec.com/js/?us.battle.net/login/en/?ref...</td>\n",
       "      <td>10000000</td>\n",
       "      <td>0</td>\n",
       "      <td>1</td>\n",
       "      <td>730</td>\n",
       "      <td>79</td>\n",
       "      <td>0</td>\n",
       "      <td>0</td>\n",
       "      <td>1</td>\n",
       "      <td>14</td>\n",
       "      <td>1</td>\n",
       "      <td>1</td>\n",
       "    </tr>\n",
       "  </tbody>\n",
       "</table>\n",
       "</div>"
      ],
      "text/plain": [
       "                                              domain   ranking  isIp  valid  \\\n",
       "0                               www.voting-yahoo.com  10000000     0      0   \n",
       "1         www.zvon.org/xxl/WSDL1.1/Output/index.html    194914     0      1   \n",
       "2  tecportais.com/file-security-update-infonfmati...  10000000     0      0   \n",
       "3                bima.astro.umd.edu/nemo/linuxastro/      7001     0      0   \n",
       "4  huarui-tec.com/js/?us.battle.net/login/en/?ref...  10000000     0      1   \n",
       "\n",
       "   activeDuration  urlLen  is@  isredirect  haveDash  domainLen  \\\n",
       "0               0      20    0           0         1         20   \n",
       "1            7305      42    0           0         0         12   \n",
       "2               0     155    0           0         0         14   \n",
       "3               0      35    0           0         0         18   \n",
       "4             730      79    0           0         1         14   \n",
       "\n",
       "   nosOfSubdomain  label  \n",
       "0               2      1  \n",
       "1               2      0  \n",
       "2               1      1  \n",
       "3               3      0  \n",
       "4               1      1  "
      ]
     },
     "execution_count": 22,
     "metadata": {},
     "output_type": "execute_result"
    }
   ],
   "source": [
    "data_file.head(5)"
   ]
  },
  {
   "cell_type": "code",
   "execution_count": 23,
   "metadata": {},
   "outputs": [
    {
     "data": {
      "text/plain": [
       "domain            False\n",
       "ranking           False\n",
       "isIp              False\n",
       "valid             False\n",
       "activeDuration    False\n",
       "urlLen            False\n",
       "is@               False\n",
       "isredirect        False\n",
       "haveDash          False\n",
       "domainLen         False\n",
       "nosOfSubdomain    False\n",
       "label             False\n",
       "dtype: bool"
      ]
     },
     "execution_count": 23,
     "metadata": {},
     "output_type": "execute_result"
    }
   ],
   "source": [
    "#Checking for null values\n",
    "data_file.isna().any()"
   ]
  },
  {
   "cell_type": "code",
   "execution_count": 24,
   "metadata": {},
   "outputs": [
    {
     "name": "stdout",
     "output_type": "stream",
     "text": [
      "1    55914\n",
      "0    39996\n",
      "Name: label, dtype: int64\n",
      "(95910, 12)\n"
     ]
    }
   ],
   "source": [
    "#Checking the distribution of data\n",
    "print(data_file['label'].value_counts())\n",
    "print(data_file.shape)"
   ]
  },
  {
   "cell_type": "markdown",
   "metadata": {},
   "source": [
    "# Cleaning and preprocessing of Questions"
   ]
  },
  {
   "cell_type": "markdown",
   "metadata": {},
   "source": [
    "### Preprocessing"
   ]
  },
  {
   "cell_type": "markdown",
   "metadata": {},
   "source": [
    "1. Remove Spcial characters from domain\n",
    "2. Convert all the characters into small letters"
   ]
  },
  {
   "cell_type": "code",
   "execution_count": 44,
   "metadata": {},
   "outputs": [],
   "source": [
    "def remove_characters(row):\n",
    "    row = ''.join(e for e in str(row) if e.isalnum())\n",
    "    return row\n",
    "\n",
    "data_file['domain'] = data_file['domain'].apply(remove_characters)"
   ]
  },
  {
   "cell_type": "code",
   "execution_count": 45,
   "metadata": {},
   "outputs": [
    {
     "data": {
      "text/html": [
       "<div>\n",
       "<style scoped>\n",
       "    .dataframe tbody tr th:only-of-type {\n",
       "        vertical-align: middle;\n",
       "    }\n",
       "\n",
       "    .dataframe tbody tr th {\n",
       "        vertical-align: top;\n",
       "    }\n",
       "\n",
       "    .dataframe thead th {\n",
       "        text-align: right;\n",
       "    }\n",
       "</style>\n",
       "<table border=\"1\" class=\"dataframe\">\n",
       "  <thead>\n",
       "    <tr style=\"text-align: right;\">\n",
       "      <th></th>\n",
       "      <th>domain</th>\n",
       "      <th>ranking</th>\n",
       "      <th>isIp</th>\n",
       "      <th>valid</th>\n",
       "      <th>activeDuration</th>\n",
       "      <th>urlLen</th>\n",
       "      <th>is@</th>\n",
       "      <th>isredirect</th>\n",
       "      <th>haveDash</th>\n",
       "      <th>domainLen</th>\n",
       "      <th>nosOfSubdomain</th>\n",
       "      <th>label</th>\n",
       "    </tr>\n",
       "  </thead>\n",
       "  <tbody>\n",
       "    <tr>\n",
       "      <th>0</th>\n",
       "      <td>wwwvotingyahoocom</td>\n",
       "      <td>10000000</td>\n",
       "      <td>0</td>\n",
       "      <td>0</td>\n",
       "      <td>0</td>\n",
       "      <td>20</td>\n",
       "      <td>0</td>\n",
       "      <td>0</td>\n",
       "      <td>1</td>\n",
       "      <td>20</td>\n",
       "      <td>2</td>\n",
       "      <td>1</td>\n",
       "    </tr>\n",
       "    <tr>\n",
       "      <th>1</th>\n",
       "      <td>wwwzvonorgxxlWSDL11Outputindexhtml</td>\n",
       "      <td>194914</td>\n",
       "      <td>0</td>\n",
       "      <td>1</td>\n",
       "      <td>7305</td>\n",
       "      <td>42</td>\n",
       "      <td>0</td>\n",
       "      <td>0</td>\n",
       "      <td>0</td>\n",
       "      <td>12</td>\n",
       "      <td>2</td>\n",
       "      <td>0</td>\n",
       "    </tr>\n",
       "    <tr>\n",
       "      <th>2</th>\n",
       "      <td>tecportaiscomfilesecurityupdateinfonfmationppl...</td>\n",
       "      <td>10000000</td>\n",
       "      <td>0</td>\n",
       "      <td>0</td>\n",
       "      <td>0</td>\n",
       "      <td>155</td>\n",
       "      <td>0</td>\n",
       "      <td>0</td>\n",
       "      <td>0</td>\n",
       "      <td>14</td>\n",
       "      <td>1</td>\n",
       "      <td>1</td>\n",
       "    </tr>\n",
       "    <tr>\n",
       "      <th>3</th>\n",
       "      <td>bimaastroumdedunemolinuxastro</td>\n",
       "      <td>7001</td>\n",
       "      <td>0</td>\n",
       "      <td>0</td>\n",
       "      <td>0</td>\n",
       "      <td>35</td>\n",
       "      <td>0</td>\n",
       "      <td>0</td>\n",
       "      <td>0</td>\n",
       "      <td>18</td>\n",
       "      <td>3</td>\n",
       "      <td>0</td>\n",
       "    </tr>\n",
       "    <tr>\n",
       "      <th>4</th>\n",
       "      <td>huaruiteccomjsusbattlenetloginenrefgofcuyeusba...</td>\n",
       "      <td>10000000</td>\n",
       "      <td>0</td>\n",
       "      <td>1</td>\n",
       "      <td>730</td>\n",
       "      <td>79</td>\n",
       "      <td>0</td>\n",
       "      <td>0</td>\n",
       "      <td>1</td>\n",
       "      <td>14</td>\n",
       "      <td>1</td>\n",
       "      <td>1</td>\n",
       "    </tr>\n",
       "  </tbody>\n",
       "</table>\n",
       "</div>"
      ],
      "text/plain": [
       "                                              domain   ranking  isIp  valid  \\\n",
       "0                                  wwwvotingyahoocom  10000000     0      0   \n",
       "1                 wwwzvonorgxxlWSDL11Outputindexhtml    194914     0      1   \n",
       "2  tecportaiscomfilesecurityupdateinfonfmationppl...  10000000     0      0   \n",
       "3                      bimaastroumdedunemolinuxastro      7001     0      0   \n",
       "4  huaruiteccomjsusbattlenetloginenrefgofcuyeusba...  10000000     0      1   \n",
       "\n",
       "   activeDuration  urlLen  is@  isredirect  haveDash  domainLen  \\\n",
       "0               0      20    0           0         1         20   \n",
       "1            7305      42    0           0         0         12   \n",
       "2               0     155    0           0         0         14   \n",
       "3               0      35    0           0         0         18   \n",
       "4             730      79    0           0         1         14   \n",
       "\n",
       "   nosOfSubdomain  label  \n",
       "0               2      1  \n",
       "1               2      0  \n",
       "2               1      1  \n",
       "3               3      0  \n",
       "4               1      1  "
      ]
     },
     "execution_count": 45,
     "metadata": {},
     "output_type": "execute_result"
    }
   ],
   "source": [
    "data_file.head(5)"
   ]
  },
  {
   "cell_type": "code",
   "execution_count": 46,
   "metadata": {},
   "outputs": [
    {
     "data": {
      "text/plain": [
       "bjcuriocomjsindexhtmappAAAAAAAAAAAAAAAAAA                                                                                                          7\n",
       "krotzonbizpCntrldewebscrphpcmdsessionstartampsdr01aGVsZ2EucG9ldHNjaEB0LW9ubGluZS5kZQ                                                               6\n",
       "kksamararufidelidadetamcombrjava                                                                                                                   6\n",
       "wwwbjcuriocomjsindexhtmusbattlenetloginenrefmvexylnusbattlenetd3enindex                                                                            6\n",
       "posteitqwertyatworkbeingbangkokmagazinecomvbvindexphpidcXdlcnR5YXR3b3JrQHlhaG9vLml0Cg                                                              6\n",
       "                                                                                                                                                  ..\n",
       "wwwvantagensfidelidadecomcadastrophp                                                                                                               1\n",
       "antares63rutemplatesbeezhttpwwwpaypalcomukcgibinwebscrphpcmdloginrunampdispatch5885d80a13c0db1f8e263663d3faee8db2b24f7b84f1819390b7e2d9283d70f1    1\n",
       "wwwmathstcdiedwilkinsLaTeXPrimer                                                                                                                   1\n",
       "wwwomegacomtechreffuzzylogichtml                                                                                                                   1\n",
       "wwwpbsorgnewshourrssbusinessxml                                                                                                                    1\n",
       "Name: domain, Length: 70535, dtype: int64"
      ]
     },
     "execution_count": 46,
     "metadata": {},
     "output_type": "execute_result"
    }
   ],
   "source": [
    "data_file['domain'].value_counts()"
   ]
  },
  {
   "cell_type": "code",
   "execution_count": null,
   "metadata": {},
   "outputs": [],
   "source": []
  }
 ],
 "metadata": {
  "kernelspec": {
   "display_name": "Python 3",
   "language": "python",
   "name": "python3"
  },
  "language_info": {
   "codemirror_mode": {
    "name": "ipython",
    "version": 3
   },
   "file_extension": ".py",
   "mimetype": "text/x-python",
   "name": "python",
   "nbconvert_exporter": "python",
   "pygments_lexer": "ipython3",
   "version": "3.6.12"
  }
 },
 "nbformat": 4,
 "nbformat_minor": 4
}
